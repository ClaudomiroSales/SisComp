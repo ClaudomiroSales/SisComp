{
 "cells": [
  {
   "cell_type": "code",
   "execution_count": 11,
   "metadata": {},
   "outputs": [
    {
     "name": "stdout",
     "output_type": "stream",
     "text": [
      "0.0625\n",
      "0.125 0\n",
      "0.25 0\n",
      "0.5 0\n",
      "1.0 1\n"
     ]
    }
   ],
   "source": [
    "print(16**-1)\n",
    "print(2*0.0625, '0')\n",
    "print(2*0.125, '0')\n",
    "print(2*0.25, \"0\")\n",
    "print(2*0.5, \"1\")"
   ]
  },
  {
   "cell_type": "code",
   "execution_count": 46,
   "metadata": {},
   "outputs": [
    {
     "name": "stdout",
     "output_type": "stream",
     "text": [
      "0.A\n",
      "0.625\n",
      "1.25 1\n",
      "0.5 0\n",
      "1.0 1\n"
     ]
    }
   ],
   "source": [
    "print(\"0.A\")\n",
    "print(10*16**-1)\n",
    "print(2*0.625, '1')\n",
    "print(2*0.25, '0')\n",
    "print(2*0.5, \"1\")"
   ]
  },
  {
   "cell_type": "code",
   "execution_count": 53,
   "metadata": {},
   "outputs": [
    {
     "name": "stdout",
     "output_type": "stream",
     "text": [
      "0.B\n",
      "0.6875\n",
      "1.375 1\n",
      "0.75 0\n",
      "1.5 1\n",
      "1.0 1\n"
     ]
    }
   ],
   "source": [
    "print(\"0.B\")\n",
    "print(11*16**-1)\n",
    "print(2*0.6875, '1')\n",
    "print(2*0.375, '0')\n",
    "print(2*0.75, \"1\")\n",
    "print(2*0.5, \"1\")"
   ]
  },
  {
   "cell_type": "code",
   "execution_count": 34,
   "metadata": {},
   "outputs": [
    {
     "name": "stdout",
     "output_type": "stream",
     "text": [
      "A**-2 0.00390625\n",
      "0.0078125\n",
      "0.015625\n",
      "0.03125\n",
      "0.0625\n",
      "0.125\n",
      "0.25\n",
      "0.5\n",
      "1.0\n"
     ]
    }
   ],
   "source": [
    "print(\"16**-2\", 16**-2)\n",
    "print(2*0.00390625)\n",
    "print(2*0.0078125)\n",
    "print(2*0.015625)\n",
    "print(2*0.03125)\n",
    "print(2*0.0625)\n",
    "print(2*0.125)\n",
    "print(2*0.25)\n",
    "print(2*0.5)"
   ]
  },
  {
   "cell_type": "code",
   "execution_count": 45,
   "metadata": {},
   "outputs": [
    {
     "name": "stdout",
     "output_type": "stream",
     "text": [
      "A*16**-2 0.0390625\n",
      "0.078125\n",
      "0.15625\n",
      "0.3125\n",
      "0.625\n",
      "1.25\n",
      "0.5\n",
      "1.0\n"
     ]
    }
   ],
   "source": [
    "print(\"A*16**-2\", 10*16**-2)\n",
    "print(2*0.0390625)\n",
    "print(2*0.078125)\n",
    "print(2*0.15625)\n",
    "print(2*0.3125)\n",
    "print(2*0.625)\n",
    "print(2*0.25)\n",
    "print(2*0.5)\n"
   ]
  },
  {
   "cell_type": "code",
   "execution_count": 63,
   "metadata": {},
   "outputs": [
    {
     "name": "stdout",
     "output_type": "stream",
     "text": [
      "0.AB\n",
      "0.66796875\n",
      "\n",
      "1.3359375\n",
      "0.671875\n",
      "1.34375\n",
      "0.6875\n",
      "1.375\n",
      "0.75\n",
      "1.5\n",
      "1.0\n"
     ]
    }
   ],
   "source": [
    "print(\"0.AB\")\n",
    "print(10*16**-1 + 11*16**-2)\n",
    "print(\"\")\n",
    "print(2*0.66796875)\n",
    "print(2*0.3359375)\n",
    "print(2*0.671875)\n",
    "print(2*0.34375)\n",
    "print(2*0.6875)\n",
    "print(2*0.375)\n",
    "print(2*0.75)\n",
    "print(2*0.5)"
   ]
  },
  {
   "cell_type": "code",
   "execution_count": null,
   "metadata": {
    "collapsed": true
   },
   "outputs": [],
   "source": []
  },
  {
   "cell_type": "code",
   "execution_count": null,
   "metadata": {
    "collapsed": true
   },
   "outputs": [],
   "source": []
  },
  {
   "cell_type": "code",
   "execution_count": null,
   "metadata": {
    "collapsed": true
   },
   "outputs": [],
   "source": []
  }
 ],
 "metadata": {
  "kernelspec": {
   "display_name": "Python 3",
   "language": "python",
   "name": "python3"
  },
  "language_info": {
   "codemirror_mode": {
    "name": "ipython",
    "version": 3
   },
   "file_extension": ".py",
   "mimetype": "text/x-python",
   "name": "python",
   "nbconvert_exporter": "python",
   "pygments_lexer": "ipython3",
   "version": "3.6.3"
  }
 },
 "nbformat": 4,
 "nbformat_minor": 2
}
